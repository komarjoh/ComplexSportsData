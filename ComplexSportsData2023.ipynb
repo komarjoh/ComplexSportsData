{
  "nbformat": 4,
  "nbformat_minor": 0,
  "metadata": {
    "colab": {
      "provenance": [],
      "toc_visible": true,
      "mount_file_id": "1AGfSkYabDRta5mo7C-hb8hg5h4NQWBKc",
      "authorship_tag": "ABX9TyPw6KRHgRI9FAG80v1M3+x8",
      "include_colab_link": true
    },
    "kernelspec": {
      "name": "python3",
      "display_name": "Python 3"
    },
    "language_info": {
      "name": "python"
    }
  },
  "cells": [
    {
      "cell_type": "markdown",
      "metadata": {
        "id": "view-in-github",
        "colab_type": "text"
      },
      "source": [
        "<a href=\"https://colab.research.google.com/github/komarjoh/ComplexSportsData/blob/main/ComplexSportsData2023.ipynb\" target=\"_parent\"><img src=\"https://colab.research.google.com/assets/colab-badge.svg\" alt=\"Open In Colab\"/></a>"
      ]
    },
    {
      "cell_type": "markdown",
      "source": [
        "Link to your Google drive"
      ],
      "metadata": {
        "id": "XZ8eOVsTnfkW"
      }
    },
    {
      "cell_type": "code",
      "execution_count": null,
      "metadata": {
        "colab": {
          "base_uri": "https://localhost:8080/"
        },
        "id": "np4skN-OnMIr",
        "outputId": "500b75d4-a94d-4a2a-e51a-1932338569dd"
      },
      "outputs": [
        {
          "output_type": "stream",
          "name": "stdout",
          "text": [
            "Drive already mounted at /content/drive; to attempt to forcibly remount, call drive.mount(\"/content/drive\", force_remount=True).\n"
          ]
        }
      ],
      "source": [
        "from google.colab import drive\n",
        "drive.mount('/content/drive')"
      ]
    },
    {
      "cell_type": "markdown",
      "source": [
        "Set your Path"
      ],
      "metadata": {
        "id": "fWxIfnEZ-Qrx"
      }
    },
    {
      "cell_type": "code",
      "source": [
        "import os\n",
        "from os.path import exists, join, basename, splitext\n",
        "colab_game_path = '/content/drive/My Drive/ComplexSportsData2023/X_Y_final.csv'\n",
        "colab_export_game_path = colab_game_path.replace('.csv', '') + '-processed.csv'\n",
        "print(colab_game_path)\n"
      ],
      "metadata": {
        "id": "w6WvBQnun7r1",
        "colab": {
          "base_uri": "https://localhost:8080/"
        },
        "outputId": "43f7d411-af4d-4d32-9187-2b7a7b3bc16c"
      },
      "execution_count": null,
      "outputs": [
        {
          "output_type": "stream",
          "name": "stdout",
          "text": [
            "/content/drive/My Drive/ComplexSportsData2023/X_Y_final.csv\n"
          ]
        }
      ]
    },
    {
      "cell_type": "markdown",
      "source": [
        "Import the data"
      ],
      "metadata": {
        "id": "EvjXr-vg-MsB"
      }
    },
    {
      "cell_type": "code",
      "source": [
        "import pandas as pd\n",
        "\n",
        "## replace 'colab_game_path' with the name of your CSV file if necessary\n",
        "df = pd.read_csv(colab_game_path)\n",
        "\n",
        "## display the contents of the DataFrame\n",
        "print(df.head())"
      ],
      "metadata": {
        "colab": {
          "base_uri": "https://localhost:8080/"
        },
        "id": "8K5qb-jdvcrX",
        "outputId": "b3b21d2e-2f69-427a-ccbd-b23c4bdaf589"
      },
      "execution_count": null,
      "outputs": [
        {
          "output_type": "stream",
          "name": "stdout",
          "text": [
            "     time     P1x     P1y  P2x  P2y  P3x  P3y     P4x      P4y  P5x  ...  \\\n",
            "0  195.72  9.4698 -12.988  NaN  NaN  NaN  NaN  8.8379 -0.84185  NaN  ...   \n",
            "1  195.78  9.5171 -13.007  NaN  NaN  NaN  NaN  8.8308 -0.85218  NaN  ...   \n",
            "2  195.84  9.5695 -13.027  NaN  NaN  NaN  NaN  8.8149 -0.85414  NaN  ...   \n",
            "3  195.90  9.6171 -13.043  NaN  NaN  NaN  NaN  8.7897 -0.85083  NaN  ...   \n",
            "4  195.96  9.6680 -13.060  NaN  NaN  NaN  NaN  8.7503 -0.84482  NaN  ...   \n",
            "\n",
            "     P12x    P12y  P13x  P13y    P14x    P14y  P15x  P15y    P16x    P16y  \n",
            "0  9.3242 -12.165   NaN   NaN  8.4455 -9.5957   NaN   NaN  9.9603 -10.454  \n",
            "1  9.3159 -12.161   NaN   NaN  8.4138 -9.6011   NaN   NaN  9.9590 -10.382  \n",
            "2  9.3130 -12.161   NaN   NaN  8.3861 -9.6104   NaN   NaN  9.9552 -10.303  \n",
            "3  9.3179 -12.167   NaN   NaN  8.3648 -9.6212   NaN   NaN  9.9514 -10.231  \n",
            "4  9.3305 -12.176   NaN   NaN  8.3450 -9.6350   NaN   NaN  9.9484 -10.149  \n",
            "\n",
            "[5 rows x 33 columns]\n"
          ]
        }
      ]
    },
    {
      "cell_type": "markdown",
      "source": [
        "Plot the data (from t to t1)"
      ],
      "metadata": {
        "id": "0KkAQ5_1BVKn"
      }
    },
    {
      "cell_type": "code",
      "source": [
        "## Set the start and end of the plotted data\n",
        "t=1\n",
        "t1=100000000000000000\n",
        "\n",
        "## Set the start and end of the plotted data\n",
        "\n",
        "data_temp=df.iloc[t:t1, :]\n",
        "# print(data_temp)\n",
        "\n",
        "## animate the data\n",
        "import plotly.express as px\n",
        "px.scatter(df, x=\"P7x\", y=\"P7y\")\n"
      ],
      "metadata": {
        "colab": {
          "base_uri": "https://localhost:8080/",
          "height": 232
        },
        "id": "NoEhC_XGPpNI",
        "outputId": "f9489684-a195-45cc-b111-ae703e1942f2"
      },
      "execution_count": 1,
      "outputs": [
        {
          "output_type": "error",
          "ename": "NameError",
          "evalue": "ignored",
          "traceback": [
            "\u001b[0;31m---------------------------------------------------------------------------\u001b[0m",
            "\u001b[0;31mNameError\u001b[0m                                 Traceback (most recent call last)",
            "\u001b[0;32m<ipython-input-1-52dd15972a3d>\u001b[0m in \u001b[0;36m<cell line: 7>\u001b[0;34m()\u001b[0m\n\u001b[1;32m      5\u001b[0m \u001b[0;31m## Set the start and end of the plotted data\u001b[0m\u001b[0;34m\u001b[0m\u001b[0;34m\u001b[0m\u001b[0m\n\u001b[1;32m      6\u001b[0m \u001b[0;34m\u001b[0m\u001b[0m\n\u001b[0;32m----> 7\u001b[0;31m \u001b[0mdata_temp\u001b[0m\u001b[0;34m=\u001b[0m\u001b[0mdf\u001b[0m\u001b[0;34m.\u001b[0m\u001b[0miloc\u001b[0m\u001b[0;34m[\u001b[0m\u001b[0mt\u001b[0m\u001b[0;34m:\u001b[0m\u001b[0mt1\u001b[0m\u001b[0;34m,\u001b[0m \u001b[0;34m:\u001b[0m\u001b[0;34m]\u001b[0m\u001b[0;34m\u001b[0m\u001b[0;34m\u001b[0m\u001b[0m\n\u001b[0m\u001b[1;32m      8\u001b[0m \u001b[0;31m# print(data_temp)\u001b[0m\u001b[0;34m\u001b[0m\u001b[0;34m\u001b[0m\u001b[0m\n\u001b[1;32m      9\u001b[0m \u001b[0;34m\u001b[0m\u001b[0m\n",
            "\u001b[0;31mNameError\u001b[0m: name 'df' is not defined"
          ]
        }
      ]
    },
    {
      "cell_type": "markdown",
      "source": [
        "Filter the data"
      ],
      "metadata": {
        "id": "qphCyMsI9B8M"
      }
    },
    {
      "cell_type": "markdown",
      "source": [
        "1) Find the Goal Keeper"
      ],
      "metadata": {
        "id": "LtJdsHbF9rT-"
      }
    },
    {
      "cell_type": "code",
      "source": [
        "# Keep data that are only -20:-17 et 17:20\n",
        "\n",
        "\n",
        "\n",
        "# sum all those data per player (all X and all Y)\n",
        "\n",
        "\n",
        "# the one with the highest score is the GK...\n",
        "\n",
        "GK = 3\n",
        "\n",
        "\n",
        "print(\"the Goal Keeper is player \" + str(GK))"
      ],
      "metadata": {
        "colab": {
          "base_uri": "https://localhost:8080/"
        },
        "id": "feQeBJlU9Z6n",
        "outputId": "e6246bd0-8299-41fa-85fe-d81d42b9f914"
      },
      "execution_count": null,
      "outputs": [
        {
          "output_type": "stream",
          "name": "stdout",
          "text": [
            "the Goal Keeper is player 3\n"
          ]
        }
      ]
    },
    {
      "cell_type": "markdown",
      "source": [
        "2) Compute the distance covered by the GK and the speed"
      ],
      "metadata": {
        "id": "y-mPi2c1_4R0"
      }
    },
    {
      "cell_type": "code",
      "source": [
        "# From position , find the distance covered\n",
        "\n",
        "\n",
        "# compute the speed"
      ],
      "metadata": {
        "id": "y8HrXCgDADpX"
      },
      "execution_count": null,
      "outputs": []
    },
    {
      "cell_type": "markdown",
      "source": [
        "3) Filter the distance covered for the substitutions (and the speed)"
      ],
      "metadata": {
        "id": "QAu6QlWkALjb"
      }
    },
    {
      "cell_type": "code",
      "source": [
        "# Filter the location outside the 6m zone"
      ],
      "metadata": {
        "id": "P3uxeqa7ARuC"
      },
      "execution_count": null,
      "outputs": []
    },
    {
      "cell_type": "markdown",
      "source": [
        "4) Compute the distance covered inside the 6m zone (the regular distance covered by a GK)"
      ],
      "metadata": {
        "id": "JXamtSopAWRE"
      }
    },
    {
      "cell_type": "code",
      "source": [
        "# Filter only the location inside the 6m zone (with a buffer)\n",
        "\n"
      ],
      "metadata": {
        "id": "MrPdjigFAfuq"
      },
      "execution_count": null,
      "outputs": []
    },
    {
      "cell_type": "markdown",
      "source": [
        "5) Compare the results"
      ],
      "metadata": {
        "id": "4HJMpX72AwCr"
      }
    },
    {
      "cell_type": "code",
      "source": [
        "# Normalize per game, 10 minutes...\n",
        "\n",
        "\n",
        "# plot the results"
      ],
      "metadata": {
        "id": "bF7QKapSA0Dh"
      },
      "execution_count": null,
      "outputs": []
    }
  ]
}